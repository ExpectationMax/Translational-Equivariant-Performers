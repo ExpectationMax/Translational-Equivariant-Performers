{
 "cells": [
  {
   "cell_type": "code",
   "execution_count": 1,
   "metadata": {},
   "outputs": [],
   "source": [
    "import numpy as np\n",
    "import torch\n",
    "import torch.nn as nn\n",
    "import pytorch_lightning as pl\n",
    "import pl_bolts\n",
    "from relative_performer.train import RelativePerformerModel\n",
    "import matplotlib.pyplot as plt"
   ]
  },
  {
   "cell_type": "code",
   "execution_count": 2,
   "metadata": {},
   "outputs": [
    {
     "data": {
      "text/plain": [
       "'/Users/hornm/Projects/RelativePerformer/notebooks'"
      ]
     },
     "execution_count": 2,
     "metadata": {},
     "output_type": "execute_result"
    }
   ],
   "source": [
    "import os\n",
    "os.getcwd()"
   ]
  },
  {
   "cell_type": "code",
   "execution_count": 3,
   "metadata": {},
   "outputs": [],
   "source": [
    "dataset = pl_bolts.datamodules.MNISTDataModule('../data/MNIST')"
   ]
  },
  {
   "cell_type": "code",
   "execution_count": 4,
   "metadata": {},
   "outputs": [],
   "source": [
    "train_loader = dataset.train_dataloader()\n",
    "batch = next(train_loader.__iter__())"
   ]
  },
  {
   "cell_type": "code",
   "execution_count": 5,
   "metadata": {},
   "outputs": [],
   "source": [
    "x, y = batch\n",
    "x = x.permute(0, 2, 3, 1)\n",
    "x = x[[0]]"
   ]
  },
  {
   "cell_type": "code",
   "execution_count": 6,
   "metadata": {},
   "outputs": [
    {
     "data": {
      "text/plain": [
       "torch.Size([1, 28, 28, 1])"
      ]
     },
     "execution_count": 6,
     "metadata": {},
     "output_type": "execute_result"
    }
   ],
   "source": [
    "x.shape"
   ]
  },
  {
   "cell_type": "code",
   "execution_count": 35,
   "metadata": {},
   "outputs": [],
   "source": [
    "model = RelativePerformerModel(dim=128, heads=1, depth=1, in_features=1, max_pos=28, pos_dims=2, pos_scales=8, num_classes=10, embedding_type='linear', no_projection=True, content_rel_attn=True)"
   ]
  },
  {
   "cell_type": "code",
   "execution_count": 36,
   "metadata": {},
   "outputs": [],
   "source": [
    "x_flat, positions = model._flatten_to_sequence(x)"
   ]
  },
  {
   "cell_type": "code",
   "execution_count": 37,
   "metadata": {},
   "outputs": [
    {
     "data": {
      "text/plain": [
       "<matplotlib.image.AxesImage at 0x142939f70>"
      ]
     },
     "execution_count": 37,
     "metadata": {},
     "output_type": "execute_result"
    },
    {
     "data": {
      "image/png": "[encoded data removed]",
      "text/plain": [
       "<Figure size 288x504 with 1 Axes>"
      ]
     },
     "metadata": {
      "needs_background": "light"
     },
     "output_type": "display_data"
    }
   ],
   "source": [
    "plt.matshow(model._compute_positional_embeddings(positions[:, :28, [1]]).detach().numpy()[0], aspect='auto')"
   ]
  },
  {
   "cell_type": "code",
   "execution_count": 38,
   "metadata": {},
   "outputs": [],
   "source": [
    "out1 = model(x).detach().numpy()"
   ]
  },
  {
   "cell_type": "code",
   "execution_count": 39,
   "metadata": {},
   "outputs": [],
   "source": [
    "out2 = model(x_flat, positions).detach().numpy()"
   ]
  },
  {
   "cell_type": "code",
   "execution_count": 40,
   "metadata": {},
   "outputs": [],
   "source": [
    "out3 = model(x_flat, positions + torch.ones(*positions.shape)).detach().numpy()"
   ]
  },
  {
   "cell_type": "code",
   "execution_count": 41,
   "metadata": {},
   "outputs": [
    {
     "data": {
      "text/plain": [
       "True"
      ]
     },
     "execution_count": 41,
     "metadata": {},
     "output_type": "execute_result"
    }
   ],
   "source": [
    "np.allclose(out1, out2)"
   ]
  },
  {
   "cell_type": "code",
   "execution_count": 42,
   "metadata": {},
   "outputs": [
    {
     "data": {
      "text/plain": [
       "False"
      ]
     },
     "execution_count": 42,
     "metadata": {},
     "output_type": "execute_result"
    }
   ],
   "source": [
    "np.allclose(out1, out3)"
   ]
  },
  {
   "cell_type": "code",
   "execution_count": 43,
   "metadata": {},
   "outputs": [
    {
     "data": {
      "text/plain": [
       "(array([ 0.19901657, -1.0209535 , -0.5349111 ,  0.40523094, -0.06661904,\n",
       "        -1.0148358 , -0.7798277 ,  0.5173554 , -0.03173403, -0.1405547 ],\n",
       "       dtype=float32),\n",
       " array([ 0.19884002, -1.0207275 , -0.53496534,  0.40507913, -0.06667282,\n",
       "        -1.0150121 , -0.77973497,  0.5174498 , -0.03182615, -0.14077346],\n",
       "       dtype=float32))"
      ]
     },
     "execution_count": 43,
     "metadata": {},
     "output_type": "execute_result"
    }
   ],
   "source": [
    "out1[0], out3[0]"
   ]
  },
  {
   "cell_type": "code",
   "execution_count": 32,
   "metadata": {},
   "outputs": [
    {
     "data": {
      "text/plain": [
       "tensor([[[ 1.,  1.],\n",
       "         [ 1.,  2.],\n",
       "         [ 1.,  3.],\n",
       "         ...,\n",
       "         [28., 26.],\n",
       "         [28., 27.],\n",
       "         [28., 28.]]])"
      ]
     },
     "execution_count": 32,
     "metadata": {},
     "output_type": "execute_result"
    }
   ],
   "source": [
    "positions + torch.ones(*positions.shape)"
   ]
  },
  {
   "cell_type": "code",
   "execution_count": 33,
   "metadata": {},
   "outputs": [],
   "source": [
    "from relative_performer.constrained_relative_encoding import ConstrainedLinear, IdentityLinear\n",
    "\n",
    "to_q, to_k = ConstrainedLinear(1, 2, 16, 2, content_rel_attn=True), IdentityLinear(1, 2, 16, 2, content_rel_attn=True)"
   ]
  },
  {
   "cell_type": "code",
   "execution_count": 34,
   "metadata": {
    "scrolled": false
   },
   "outputs": [
    {
     "name": "stdout",
     "output_type": "stream",
     "text": [
      "torch.Size([1, 2, 3, 65])\n",
      "tensor([[[[-3.7082, -4.9910, -3.7082],\n",
      "          [-2.8502, -3.7082, -2.8502],\n",
      "          [-3.7082, -4.9910, -3.7082]],\n",
      "\n",
      "         [[-3.2733, -4.2058, -3.2733],\n",
      "          [-1.9385, -3.2733, -1.9385],\n",
      "          [-3.2733, -4.2058, -3.2733]]]], grad_fn=<UnsafeViewBackward>)\n",
      "torch.Size([1, 2, 3, 65])\n",
      "tensor([[[[-3.7082, -4.9910, -3.7082],\n",
      "          [-2.8502, -3.7082, -2.8502],\n",
      "          [-3.7082, -4.9910, -3.7082]],\n",
      "\n",
      "         [[-3.2733, -4.2058, -3.2733],\n",
      "          [-1.9385, -3.2733, -1.9385],\n",
      "          [-3.2733, -4.2058, -3.2733]]]], grad_fn=<UnsafeViewBackward>)\n"
     ]
    }
   ],
   "source": [
    "def compute_dot_prod2(i1, i2, j1, j2):\n",
    "    positions = torch.Tensor([[i1, i2], [j1, j2], [i1, i2]])[None]\n",
    "    from einops import rearrange\n",
    "    encodings = model._compute_positional_embeddings(positions)\n",
    "    fake_data = torch.zeros(1, 3, 1)\n",
    "    q = to_q(fake_data, encodings)\n",
    "    k = to_k(fake_data, encodings)\n",
    "    print(q.shape)\n",
    "    return q.matmul(k.transpose(-1, -2))\n",
    "# print(compute_dot_prod(0, 0, 1, 1))\n",
    "print(compute_dot_prod2(0, 0, 1, 1))\n",
    "print(compute_dot_prod2(1, 1, 2, 2))"
   ]
  }
 ],
 "metadata": {
  "kernelspec": {
   "display_name": "Python 3",
   "language": "python",
   "name": "python3"
  },
  "language_info": {
   "codemirror_mode": {
    "name": "ipython",
    "version": 3
   },
   "file_extension": ".py",
   "mimetype": "text/x-python",
   "name": "python",
   "nbconvert_exporter": "python",
   "pygments_lexer": "ipython3",
   "version": "3.9.1"
  }
 },
 "nbformat": 4,
 "nbformat_minor": 4
}
