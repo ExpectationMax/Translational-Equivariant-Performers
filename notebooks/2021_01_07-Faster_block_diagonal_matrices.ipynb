{
 "cells": [
  {
   "cell_type": "code",
   "execution_count": 1,
   "metadata": {},
   "outputs": [],
   "source": [
    "import numpy as np\n",
    "import torch\n",
    "import torch.nn as nn\n",
    "import pytorch_lightning as pl\n",
    "import pl_bolts\n",
    "from relative_performer.train import RelativePerformerModel\n",
    "import matplotlib.pyplot as plt"
   ]
  },
  {
   "cell_type": "code",
   "execution_count": 2,
   "metadata": {},
   "outputs": [
    {
     "data": {
      "text/plain": [
       "'/Users/hornm/Projects/RelativePerformer/notebooks'"
      ]
     },
     "execution_count": 2,
     "metadata": {},
     "output_type": "execute_result"
    }
   ],
   "source": [
    "import os\n",
    "os.getcwd()"
   ]
  },
  {
   "cell_type": "code",
   "execution_count": 3,
   "metadata": {},
   "outputs": [],
   "source": [
    "dataset = pl_bolts.datamodules.MNISTDataModule('../data/MNIST')"
   ]
  },
  {
   "cell_type": "code",
   "execution_count": 4,
   "metadata": {},
   "outputs": [],
   "source": [
    "train_loader = dataset.train_dataloader()\n",
    "batch = next(train_loader.__iter__())"
   ]
  },
  {
   "cell_type": "code",
   "execution_count": 5,
   "metadata": {},
   "outputs": [],
   "source": [
    "x, y = batch\n",
    "x = x.permute(0, 2, 3, 1)\n",
    "x = x[[0]]"
   ]
  },
  {
   "cell_type": "code",
   "execution_count": 6,
   "metadata": {},
   "outputs": [
    {
     "data": {
      "text/plain": [
       "torch.Size([1, 28, 28, 1])"
      ]
     },
     "execution_count": 6,
     "metadata": {},
     "output_type": "execute_result"
    }
   ],
   "source": [
    "x.shape"
   ]
  },
  {
   "cell_type": "code",
   "execution_count": 66,
   "metadata": {},
   "outputs": [],
   "source": [
    "model = RelativePerformerModel(dim=128, heads=1, depth=1, in_features=1, max_pos=28, pos_dims=2, pos_scales=8, num_classes=10, embedding_type='linear', no_projection=True)"
   ]
  },
  {
   "cell_type": "code",
   "execution_count": 67,
   "metadata": {},
   "outputs": [],
   "source": [
    "x_flat, positions = model._flatten_to_sequence(x)"
   ]
  },
  {
   "cell_type": "code",
   "execution_count": 68,
   "metadata": {},
   "outputs": [
    {
     "data": {
      "text/plain": [
       "<matplotlib.image.AxesImage at 0x1420f87f0>"
      ]
     },
     "execution_count": 68,
     "metadata": {},
     "output_type": "execute_result"
    },
    {
     "data": {
      "image/png": "[encoded data removed]",
      "text/plain": [
       "<Figure size 288x504 with 1 Axes>"
      ]
     },
     "metadata": {
      "needs_background": "light"
     },
     "output_type": "display_data"
    }
   ],
   "source": [
    "plt.matshow(model._compute_positional_embeddings(positions[:, :28, [1]]).detach().numpy()[0], aspect='auto')"
   ]
  },
  {
   "cell_type": "code",
   "execution_count": 95,
   "metadata": {},
   "outputs": [],
   "source": [
    "out1 = model(x).detach().numpy()"
   ]
  },
  {
   "cell_type": "code",
   "execution_count": 102,
   "metadata": {},
   "outputs": [],
   "source": [
    "out2 = model(x_flat, positions).detach().numpy()"
   ]
  },
  {
   "cell_type": "code",
   "execution_count": 97,
   "metadata": {},
   "outputs": [],
   "source": [
    "out3 = model(x_flat, positions + torch.ones(*positions.shape)).detach().numpy()"
   ]
  },
  {
   "cell_type": "code",
   "execution_count": 103,
   "metadata": {},
   "outputs": [
    {
     "data": {
      "text/plain": [
       "True"
      ]
     },
     "execution_count": 103,
     "metadata": {},
     "output_type": "execute_result"
    }
   ],
   "source": [
    "np.allclose(out1, out2)"
   ]
  },
  {
   "cell_type": "code",
   "execution_count": 99,
   "metadata": {},
   "outputs": [
    {
     "data": {
      "text/plain": [
       "True"
      ]
     },
     "execution_count": 99,
     "metadata": {},
     "output_type": "execute_result"
    }
   ],
   "source": [
    "np.allclose(out1, out3)"
   ]
  },
  {
   "cell_type": "code",
   "execution_count": 100,
   "metadata": {},
   "outputs": [
    {
     "data": {
      "text/plain": [
       "(array([-0.18364005,  0.40394008,  0.12559885,  1.212065  , -0.3024696 ,\n",
       "        -0.23812824, -0.6652707 ,  0.00577746, -0.44367722, -0.1302074 ],\n",
       "       dtype=float32),\n",
       " array([-0.18364005,  0.40394008,  0.12559885,  1.212065  , -0.3024696 ,\n",
       "        -0.23812824, -0.6652707 ,  0.00577746, -0.44367722, -0.1302074 ],\n",
       "       dtype=float32))"
      ]
     },
     "execution_count": 100,
     "metadata": {},
     "output_type": "execute_result"
    }
   ],
   "source": [
    "out1[0], out3[0]"
   ]
  },
  {
   "cell_type": "code",
   "execution_count": 75,
   "metadata": {},
   "outputs": [
    {
     "data": {
      "text/plain": [
       "tensor([[[ 1.,  1.],\n",
       "         [ 1.,  2.],\n",
       "         [ 1.,  3.],\n",
       "         ...,\n",
       "         [28., 26.],\n",
       "         [28., 27.],\n",
       "         [28., 28.]]])"
      ]
     },
     "execution_count": 75,
     "metadata": {},
     "output_type": "execute_result"
    }
   ],
   "source": [
    "positions + torch.ones(*positions.shape)"
   ]
  },
  {
   "cell_type": "code",
   "execution_count": 76,
   "metadata": {},
   "outputs": [
    {
     "name": "stdout",
     "output_type": "stream",
     "text": [
      "torch.Size([1, 32, 32])\n"
     ]
    }
   ],
   "source": [
    "projection_matrix = model.performer.net.layers[0][0].fn.to_q._build_positional_projection_matrix()\n",
    "print(projection_matrix.shape)\n",
    "# projection_matrix = projection_matrix[:, :32, :32]"
   ]
  },
  {
   "cell_type": "code",
   "execution_count": 77,
   "metadata": {},
   "outputs": [
    {
     "name": "stdout",
     "output_type": "stream",
     "text": [
      "tensor([[[[-2.6894, -4.8353],\n",
      "          [ 1.5564, -2.6894]]]], grad_fn=<UnsafeViewBackward>)\n",
      "tensor([[[[-2.6894, -4.8353],\n",
      "          [ 1.5564, -2.6894]]]], grad_fn=<UnsafeViewBackward>)\n"
     ]
    }
   ],
   "source": [
    "from einops import repeat\n",
    "def compute_dot_prod(i1, i2, j1, j2):\n",
    "    positions = torch.Tensor([[i1, i2], [j1, j2]])[None]\n",
    "    from einops import rearrange\n",
    "    encodings = model._compute_positional_embeddings(positions)\n",
    "    k = repeat(encodings, 'b n d -> b h n d', h=1)\n",
    "    encodings = rearrange(encodings, 'b n d -> b n 1 1 d')\n",
    "    encodings = encodings.matmul(projection_matrix)\n",
    "    encodings = rearrange(encodings, 'b n h 1 d -> b h n d')\n",
    "    return encodings.matmul(k.transpose(-1, -2))\n",
    "print(compute_dot_prod(0, 0, 1, 1))\n",
    "print(compute_dot_prod(128, 127, 129, 128))"
   ]
  },
  {
   "cell_type": "code",
   "execution_count": 78,
   "metadata": {},
   "outputs": [],
   "source": [
    "from relative_performer.constrained_relative_encoding import ConstrainedLinear, IdentityLinear\n",
    "\n",
    "to_q, to_k = ConstrainedLinear(1, 2, 16, 2), IdentityLinear(1, 2, 16, 2)"
   ]
  },
  {
   "cell_type": "code",
   "execution_count": 90,
   "metadata": {},
   "outputs": [
    {
     "data": {
      "text/plain": [
       "torch.Size([2, 16, 2, 2])"
      ]
     },
     "execution_count": 90,
     "metadata": {},
     "output_type": "execute_result"
    }
   ],
   "source": [
    "to_q._build_positional_projection_matrix_test().shape"
   ]
  },
  {
   "cell_type": "code",
   "execution_count": 79,
   "metadata": {},
   "outputs": [
    {
     "data": {
      "text/plain": [
       "tensor([[[ 0.1380, -0.3112],\n",
       "         [ 0.3112,  0.1380]],\n",
       "\n",
       "        [[ 0.2101, -1.5771],\n",
       "         [ 1.5771,  0.2101]],\n",
       "\n",
       "        [[-0.9529, -0.9616],\n",
       "         [ 0.9616, -0.9529]],\n",
       "\n",
       "        [[-0.0875,  1.3311],\n",
       "         [-1.3311, -0.0875]],\n",
       "\n",
       "        [[ 1.1248,  2.2364],\n",
       "         [-2.2364,  1.1248]],\n",
       "\n",
       "        [[-0.9593, -0.4814],\n",
       "         [ 0.4814, -0.9593]],\n",
       "\n",
       "        [[ 0.9062,  0.4642],\n",
       "         [-0.4642,  0.9062]],\n",
       "\n",
       "        [[ 2.0007,  1.3315],\n",
       "         [-1.3315,  2.0007]],\n",
       "\n",
       "        [[-0.2575, -0.6542],\n",
       "         [ 0.6542, -0.2575]],\n",
       "\n",
       "        [[ 0.0039,  1.6808],\n",
       "         [-1.6808,  0.0039]],\n",
       "\n",
       "        [[-1.5500,  2.1098],\n",
       "         [-2.1098, -1.5500]],\n",
       "\n",
       "        [[-0.8114,  0.3042],\n",
       "         [-0.3042, -0.8114]],\n",
       "\n",
       "        [[ 0.6494, -0.1627],\n",
       "         [ 0.1627,  0.6494]],\n",
       "\n",
       "        [[ 0.4672, -0.1172],\n",
       "         [ 0.1172,  0.4672]],\n",
       "\n",
       "        [[ 0.9907, -1.9594],\n",
       "         [ 1.9594,  0.9907]],\n",
       "\n",
       "        [[-0.3136,  1.2583],\n",
       "         [-1.2583, -0.3136]]], grad_fn=<SelectBackward>)"
      ]
     },
     "execution_count": 79,
     "metadata": {},
     "output_type": "execute_result"
    }
   ],
   "source": [
    "to_q._build_positional_projection_matrix_test()[0]"
   ]
  },
  {
   "cell_type": "code",
   "execution_count": 80,
   "metadata": {},
   "outputs": [
    {
     "data": {
      "text/plain": [
       "tensor([[ 0.1380, -0.3112,  0.0000,  ...,  0.0000,  0.0000,  0.0000],\n",
       "        [ 0.3112,  0.1380,  0.0000,  ...,  0.0000,  0.0000,  0.0000],\n",
       "        [ 0.0000,  0.0000,  0.2101,  ...,  0.0000,  0.0000,  0.0000],\n",
       "        ...,\n",
       "        [ 0.0000,  0.0000,  0.0000,  ...,  0.9907,  0.0000,  0.0000],\n",
       "        [ 0.0000,  0.0000,  0.0000,  ...,  0.0000, -0.3136,  1.2583],\n",
       "        [ 0.0000,  0.0000,  0.0000,  ...,  0.0000, -1.2583, -0.3136]],\n",
       "       grad_fn=<SelectBackward>)"
      ]
     },
     "execution_count": 80,
     "metadata": {},
     "output_type": "execute_result"
    }
   ],
   "source": [
    "to_q._build_positional_projection_matrix()[0]"
   ]
  },
  {
   "cell_type": "code",
   "execution_count": 94,
   "metadata": {
    "scrolled": false
   },
   "outputs": [
    {
     "name": "stdout",
     "output_type": "stream",
     "text": [
      "tensor([[[[ 0.3112,  0.1380,  1.5771,  0.2101,  0.9616, -0.9529, -1.3311,\n",
      "           -0.0875, -2.2364,  1.1248,  0.4814, -0.9593, -0.4642,  0.9062,\n",
      "           -1.3315,  2.0007,  0.6542, -0.2575, -1.6808,  0.0039, -2.1098,\n",
      "           -1.5500, -0.3042, -0.8114,  0.1627,  0.6494,  0.1172,  0.4672,\n",
      "            1.9594,  0.9907, -1.2583, -0.3136],\n",
      "          [ 0.2843, -0.1873,  1.4170, -0.7236,  0.5574, -1.2336, -1.3179,\n",
      "            0.2064, -2.0666,  1.4127,  0.4024, -0.9950, -0.4194,  0.9278,\n",
      "           -1.2718,  2.0392,  0.1368, -0.6896, -1.3807,  0.9586, -2.5244,\n",
      "           -0.6934, -0.4747, -0.7250,  0.2478,  0.6219,  0.1545,  0.4562,\n",
      "            2.0054,  0.8938, -1.2671, -0.2763],\n",
      "          [ 0.3112,  0.1380,  1.5771,  0.2101,  0.9616, -0.9529, -1.3311,\n",
      "           -0.0875, -2.2364,  1.1248,  0.4814, -0.9593, -0.4642,  0.9062,\n",
      "           -1.3315,  2.0007,  0.6542, -0.2575, -1.6808,  0.0039, -2.1098,\n",
      "           -1.5500, -0.3042, -0.8114,  0.1627,  0.6494,  0.1172,  0.4672,\n",
      "            1.9594,  0.9907, -1.2583, -0.3136]],\n",
      "\n",
      "         [[-0.9763,  2.0237,  1.6277, -0.3768, -0.5832,  0.6090,  0.4893,\n",
      "           -1.0463,  0.5493, -1.0614, -0.7235, -1.0593, -1.0035,  1.9529,\n",
      "           -0.8135,  0.6910, -0.7727, -0.7976,  1.5860,  0.3558,  0.5320,\n",
      "            0.2915,  1.2413,  1.1263,  0.0915, -0.8547, -2.2283, -1.6183,\n",
      "            0.1926, -0.1798, -1.2878,  0.1874],\n",
      "          [ 1.1754,  1.9149,  1.1250, -1.2353, -0.3270,  0.7773,  0.2481,\n",
      "           -1.1281,  0.4030, -1.1251, -0.8067, -0.9975, -0.9069,  1.9996,\n",
      "           -0.7927,  0.7148, -1.0886,  0.2193,  1.5071, -0.6088,  0.6010,\n",
      "            0.0821,  1.4581,  0.8268, -0.0232, -0.8593, -2.3516, -1.4332,\n",
      "            0.1835, -0.1890, -1.2817,  0.2254],\n",
      "          [-0.9763,  2.0237,  1.6277, -0.3768, -0.5832,  0.6090,  0.4893,\n",
      "           -1.0463,  0.5493, -1.0614, -0.7235, -1.0593, -1.0035,  1.9529,\n",
      "           -0.8135,  0.6910, -0.7727, -0.7976,  1.5860,  0.3558,  0.5320,\n",
      "            0.2915,  1.2413,  1.1263,  0.0915, -0.8547, -2.2283, -1.6183,\n",
      "            0.1926, -0.1798, -1.2878,  0.1874]]]], grad_fn=<ViewBackward>)\n",
      "tensor([[[[ 1.5588,  1.4989,  1.5588],\n",
      "          [ 1.9927,  1.5588,  1.9927],\n",
      "          [ 1.5588,  1.4989,  1.5588]],\n",
      "\n",
      "         [[ 0.2434,  0.1071,  0.2434],\n",
      "          [-0.8163,  0.2434, -0.8163],\n",
      "          [ 0.2434,  0.1071,  0.2434]]]], grad_fn=<UnsafeViewBackward>)\n",
      "torch.Size([1, 1, 16, 3, 2])\n",
      "torch.Size([1, 2, 16, 3, 2])\n",
      "tensor([[[[ 0.3112,  0.1380,  1.5771,  0.2101,  0.9616, -0.9529, -1.3311,\n",
      "           -0.0875, -2.2364,  1.1248,  0.4814, -0.9593, -0.4642,  0.9062,\n",
      "           -1.3315,  2.0007,  0.6542, -0.2575, -1.6808,  0.0039, -2.1098,\n",
      "           -1.5500, -0.3042, -0.8114,  0.1627,  0.6494,  0.1172,  0.4672,\n",
      "            1.9594,  0.9907, -1.2583, -0.3136],\n",
      "          [ 0.2843, -0.1873,  1.4170, -0.7236,  0.5574, -1.2336, -1.3179,\n",
      "            0.2064, -2.0666,  1.4127,  0.4024, -0.9950, -0.4194,  0.9278,\n",
      "           -1.2718,  2.0392,  0.1368, -0.6896, -1.3807,  0.9586, -2.5244,\n",
      "           -0.6934, -0.4747, -0.7250,  0.2478,  0.6219,  0.1545,  0.4562,\n",
      "            2.0054,  0.8938, -1.2671, -0.2763],\n",
      "          [ 0.3112,  0.1380,  1.5771,  0.2101,  0.9616, -0.9529, -1.3311,\n",
      "           -0.0875, -2.2364,  1.1248,  0.4814, -0.9593, -0.4642,  0.9062,\n",
      "           -1.3315,  2.0007,  0.6542, -0.2575, -1.6808,  0.0039, -2.1098,\n",
      "           -1.5500, -0.3042, -0.8114,  0.1627,  0.6494,  0.1172,  0.4672,\n",
      "            1.9594,  0.9907, -1.2583, -0.3136]],\n",
      "\n",
      "         [[-0.9763,  2.0237,  1.6277, -0.3768, -0.5832,  0.6090,  0.4893,\n",
      "           -1.0463,  0.5493, -1.0614, -0.7235, -1.0593, -1.0035,  1.9529,\n",
      "           -0.8135,  0.6910, -0.7727, -0.7976,  1.5860,  0.3558,  0.5320,\n",
      "            0.2915,  1.2413,  1.1263,  0.0915, -0.8547, -2.2283, -1.6183,\n",
      "            0.1926, -0.1798, -1.2878,  0.1874],\n",
      "          [ 1.1754,  1.9149,  1.1250, -1.2353, -0.3270,  0.7773,  0.2481,\n",
      "           -1.1281,  0.4030, -1.1251, -0.8067, -0.9975, -0.9069,  1.9996,\n",
      "           -0.7927,  0.7148, -1.0886,  0.2193,  1.5071, -0.6088,  0.6010,\n",
      "            0.0821,  1.4581,  0.8268, -0.0232, -0.8593, -2.3516, -1.4332,\n",
      "            0.1835, -0.1890, -1.2817,  0.2254],\n",
      "          [-0.9763,  2.0237,  1.6277, -0.3768, -0.5832,  0.6090,  0.4893,\n",
      "           -1.0463,  0.5493, -1.0614, -0.7235, -1.0593, -1.0035,  1.9529,\n",
      "           -0.8135,  0.6910, -0.7727, -0.7976,  1.5860,  0.3558,  0.5320,\n",
      "            0.2915,  1.2413,  1.1263,  0.0915, -0.8547, -2.2283, -1.6183,\n",
      "            0.1926, -0.1798, -1.2878,  0.1874]]]],\n",
      "       grad_fn=<UnsafeViewBackward>)\n",
      "torch.Size([1, 2, 3, 33]) torch.Size([1, 2, 3, 33])\n",
      "tensor([[[[ 1.5588,  1.4989,  1.5588],\n",
      "          [ 1.9927,  1.5588,  1.9927],\n",
      "          [ 1.5588,  1.4989,  1.5588]],\n",
      "\n",
      "         [[ 0.2434,  0.1071,  0.2434],\n",
      "          [-0.8163,  0.2434, -0.8163],\n",
      "          [ 0.2434,  0.1071,  0.2434]]]], grad_fn=<UnsafeViewBackward>)\n"
     ]
    }
   ],
   "source": [
    "def compute_dot_prod(i1, i2, j1, j2):\n",
    "    positions = torch.Tensor([[i1, i2], [j1, j2], [i1, i2]])[None]\n",
    "    from einops import rearrange\n",
    "    encodings = model._compute_positional_embeddings(positions)\n",
    "    fake_data = torch.zeros(1, 3, 1)\n",
    "    q = to_q(fake_data, encodings)\n",
    "    k = to_k(fake_data, encodings)\n",
    "    # print('q:', q[..., 1:])\n",
    "    encodings = rearrange(encodings, 'b n d -> b n 1 1 d')\n",
    "    encodings = encodings.matmul(to_q._build_positional_projection_matrix())\n",
    "    encodings = rearrange(encodings, 'b n h 1 d -> b h n d')\n",
    "    print(encodings)\n",
    "    # print('encodings:', encodings)\n",
    "    # return encodings.matmul(k[..., 1:].transpose(-1, -2))\n",
    "    return q[..., 1:].matmul(k[..., 1:].transpose(-1, -2))\n",
    "\n",
    "def compute_dot_prod2(i1, i2, j1, j2):\n",
    "    positions = torch.Tensor([[i1, i2], [j1, j2], [i1, i2]])[None]\n",
    "    from einops import rearrange\n",
    "    encodings = model._compute_positional_embeddings(positions)\n",
    "    fake_data = torch.zeros(1, 3, 1)\n",
    "    q = to_q(fake_data, encodings)\n",
    "    k = to_k(fake_data, encodings)\n",
    "    # print('q:', q[..., 1:])\n",
    "    encodings = rearrange(encodings, 'b n (s d) -> b 1 s n d', s=to_q.pos_scales, d=2)\n",
    "    # Format batch_size, heads, scales, instances, 2\n",
    "    print(encodings.shape)\n",
    "    encodings = encodings.matmul(to_q._build_positional_projection_matrix_test())\n",
    "    print(encodings.shape)\n",
    "    encodings = rearrange(encodings, 'b h s n d -> b h n (s d)')\n",
    "    print(encodings)\n",
    "    # print('encodings:', encodings)\n",
    "    # return encodings.matmul(k[..., 1:].transpose(-1, -2))\n",
    "    print(q.shape, k.shape)\n",
    "    return encodings.matmul(k[..., 1:].transpose(-1, -2))\n",
    "\n",
    "print(compute_dot_prod(0, 0, 1, 1))\n",
    "print(compute_dot_prod2(0, 0, 1, 1))"
   ]
  },
  {
   "cell_type": "code",
   "execution_count": 80,
   "metadata": {},
   "outputs": [
    {
     "name": "stdout",
     "output_type": "stream",
     "text": [
      "torch.Size([1, 2, 64])\n",
      "torch.Size([1, 2, 1, 1, 64]) torch.Size([1, 64, 64])\n"
     ]
    },
    {
     "data": {
      "text/plain": [
       "tensor([[[[-1.5903e-01,  4.0181e-01, -1.2574e-01, -8.3570e-01, -9.4050e-01,\n",
       "           -9.1811e-01, -6.4195e-01, -4.6085e-01,  8.4565e-01, -6.2729e-01,\n",
       "            1.0973e+00, -1.6743e-03, -2.0976e+00, -5.0637e-02, -7.9917e-01,\n",
       "           -9.1657e-01,  6.4160e-01,  2.4675e-01, -3.6092e-01, -1.8101e-01,\n",
       "            2.0272e+00, -2.6797e-01,  5.3959e-01, -3.0601e+00, -1.0257e+00,\n",
       "           -1.5845e+00,  1.6931e+00,  3.0705e+00, -1.2546e+00,  1.1155e-01,\n",
       "            4.0269e-02, -9.0187e-01,  1.1881e+00,  3.7918e-01,  4.0917e-02,\n",
       "           -9.8124e-01, -1.3745e+00, -1.3507e+00,  8.1876e-01,  4.7793e-01,\n",
       "           -1.2073e+00, -4.8846e-01,  1.2825e+00, -1.6561e+00,  7.4863e-02,\n",
       "           -6.7758e-01,  5.5289e-01,  2.9380e-01, -3.9080e-02,  3.0735e-02,\n",
       "            3.5005e-01, -2.8727e-01, -8.6605e-01,  8.1303e-01,  1.1111e+00,\n",
       "           -2.2804e+00,  1.9332e+00,  4.1228e-01, -4.5921e-01, -1.2461e+00,\n",
       "            5.7522e-01,  2.1921e+00, -8.8906e-01,  4.4382e-01,  9.4483e-02,\n",
       "            1.4089e+00,  1.1852e+00, -1.9048e+00, -2.2895e-01, -1.3653e+00,\n",
       "           -1.3739e+00, -2.1920e-01, -1.0162e+00,  7.4224e-01],\n",
       "          [-1.5903e-01,  4.0181e-01, -1.2574e-01, -8.3570e-01, -9.4050e-01,\n",
       "           -9.1811e-01, -6.4195e-01, -4.6085e-01,  8.4565e-01, -6.2729e-01,\n",
       "            7.0256e-01, -9.4780e-01, -2.1636e+00,  1.0744e+00, -9.1201e-01,\n",
       "            1.5974e-01,  6.9043e-01,  1.9181e-01, -6.0503e-01, -9.4888e-02,\n",
       "            1.6755e+00, -6.6401e-01, -9.3039e-02, -3.2811e+00, -1.1339e+00,\n",
       "           -1.4977e+00,  2.0974e+00,  2.8592e+00, -1.1878e+00,  3.1031e-01,\n",
       "           -7.5878e-02, -9.0169e-01,  1.2419e+00,  3.4741e-01,  3.5473e-02,\n",
       "           -9.7203e-01, -1.3963e+00, -1.2848e+00,  8.2326e-01,  4.4030e-01,\n",
       "           -1.2306e+00, -4.7547e-01,  3.7889e-01, -1.8067e+00,  1.4543e-01,\n",
       "           -1.0431e+00,  2.6095e-01,  4.6773e-01,  5.7089e-02, -3.9014e-02,\n",
       "            2.9518e-02, -1.8958e-01, -6.8747e-01,  9.1684e-01,  7.9944e-01,\n",
       "           -2.4989e+00,  2.0805e+00,  1.9911e-01, -5.0456e-01, -1.2684e+00,\n",
       "            7.8351e-01,  2.0641e+00, -9.0842e-01,  4.8274e-01,  1.7484e-01,\n",
       "            1.3864e+00,  1.1372e+00, -1.9198e+00, -2.6661e-01, -1.3542e+00,\n",
       "           -1.3602e+00, -1.8916e-01, -1.0044e+00,  7.6201e-01]]]],\n",
       "       grad_fn=<AddBackward0>)"
      ]
     },
     "execution_count": 80,
     "metadata": {},
     "output_type": "execute_result"
    }
   ],
   "source": []
  },
  {
   "cell_type": "code",
   "execution_count": 65,
   "metadata": {},
   "outputs": [
    {
     "data": {
      "text/plain": [
       "tensor([[[[[-1.2719,  1.1333,  0.0443,  ...,  0.6008,  0.1514, -0.0119]],\n",
       "\n",
       "          [[-0.1083, -0.1909,  1.1390,  ...,  0.9228,  0.3081,  0.4741]],\n",
       "\n",
       "          [[-0.8484, -0.1518, -0.9177,  ...,  0.4169,  0.0515, -0.9480]],\n",
       "\n",
       "          [[-0.5884, -0.7237, -0.7027,  ..., -0.1708,  0.0792,  0.2196]]],\n",
       "\n",
       "\n",
       "         [[[-1.2719,  1.1333,  0.0443,  ...,  0.6188,  0.1511, -0.0147]],\n",
       "\n",
       "          [[-0.1083, -0.1909,  1.1390,  ...,  0.9085,  0.3168,  0.4683]],\n",
       "\n",
       "          [[-0.8484, -0.1518, -0.9177,  ...,  0.4179,  0.0340, -0.9488]],\n",
       "\n",
       "          [[-0.5884, -0.7237, -0.7027,  ..., -0.2246,  0.0833,  0.2181]]],\n",
       "\n",
       "\n",
       "         [[[-1.2719,  1.1333,  0.0443,  ...,  0.6366,  0.1508, -0.0175]],\n",
       "\n",
       "          [[-0.1083, -0.1909,  1.1390,  ...,  0.8938,  0.3254,  0.4624]],\n",
       "\n",
       "          [[-0.8484, -0.1518, -0.9177,  ...,  0.4188,  0.0165, -0.9492]],\n",
       "\n",
       "          [[-0.5884, -0.7237, -0.7027,  ..., -0.2784,  0.0873,  0.2165]]],\n",
       "\n",
       "\n",
       "         ...,\n",
       "\n",
       "\n",
       "         [[[ 1.4554,  0.8853,  1.9845,  ...,  0.9706,  0.1303, -0.0780]],\n",
       "\n",
       "          [[-0.1509,  0.1593,  0.8967,  ...,  0.4799,  0.4868,  0.2877]],\n",
       "\n",
       "          [[ 0.1027,  0.8557, -0.7148,  ...,  0.3971, -0.3754, -0.8720]],\n",
       "\n",
       "          [[-0.5203,  0.7742, -0.2757,  ..., -1.4481,  0.1686,  0.1615]]],\n",
       "\n",
       "\n",
       "         [[[ 1.4554,  0.8853,  1.9845,  ...,  0.9813,  0.1288, -0.0804]],\n",
       "\n",
       "          [[-0.1509,  0.1593,  0.8967,  ...,  0.4592,  0.4920,  0.2787]],\n",
       "\n",
       "          [[ 0.1027,  0.8557, -0.7148,  ...,  0.3944, -0.3914, -0.8650]],\n",
       "\n",
       "          [[-0.5203,  0.7742, -0.2757,  ..., -1.4943,  0.1716,  0.1583]]],\n",
       "\n",
       "\n",
       "         [[[ 1.4554,  0.8853,  1.9845,  ...,  0.9917,  0.1273, -0.0827]],\n",
       "\n",
       "          [[-0.1509,  0.1593,  0.8967,  ...,  0.4384,  0.4971,  0.2696]],\n",
       "\n",
       "          [[ 0.1027,  0.8557, -0.7148,  ...,  0.3915, -0.4072, -0.8576]],\n",
       "\n",
       "          [[-0.5203,  0.7742, -0.2757,  ..., -1.5398,  0.1744,  0.1552]]]]],\n",
       "       grad_fn=<UnsafeViewBackward>)"
      ]
     },
     "execution_count": 65,
     "metadata": {},
     "output_type": "execute_result"
    }
   ],
   "source": [
    "torch.matmul(q, k.transpose(-1, -2))"
   ]
  },
  {
   "cell_type": "code",
   "execution_count": 50,
   "metadata": {},
   "outputs": [
    {
     "data": {
      "text/plain": [
       "tensor([0., 1., 0., 1., 0., 1., 0., 1., 0., 1., 0., 1., 0., 1., 0., 1., 0., 1.,\n",
       "        0., 1., 0., 1., 0., 1., 0., 1., 0., 1., 0., 1., 0., 1., 0., 1., 0., 1.,\n",
       "        0., 1., 0., 1., 0., 1., 0., 1., 0., 1., 0., 1., 0., 1., 0., 1., 0., 1.,\n",
       "        0., 1., 0., 1., 0., 1., 0., 1., 0., 1., 0., 1., 0., 1., 0., 1., 0., 1.,\n",
       "        0., 1., 0., 1., 0., 1., 0., 1., 0., 1., 0., 1., 0., 1., 0., 1., 0., 1.,\n",
       "        0., 1., 0., 1., 0., 1., 0., 1., 0., 1., 0., 1., 0., 1., 0., 1., 0., 1.,\n",
       "        0., 1., 0., 1., 0., 1., 0., 1., 0., 1., 0., 1., 0., 1., 0., 1., 0., 1.,\n",
       "        0., 1., 0., 1., 0., 1., 0., 1., 0., 1., 0., 1., 0., 1., 0., 1., 0., 1.,\n",
       "        0., 1., 0., 1., 0., 1., 0., 1., 0., 1., 0., 1., 0., 1., 0., 1., 0., 1.,\n",
       "        0., 1., 0., 1., 0., 1., 0., 1., 0., 1., 0., 1., 0., 1., 0., 1., 0., 1.,\n",
       "        0., 1., 0., 1., 0., 1., 0., 1., 0., 1., 0., 1., 0., 1., 0., 1., 0., 1.,\n",
       "        0., 1., 0., 1., 0., 1., 0., 1., 0., 1., 0., 1., 0., 1., 0., 1., 0., 1.,\n",
       "        0., 1., 0., 1., 0., 1., 0., 1., 0., 1., 0., 1., 0., 1., 0., 1., 0., 1.,\n",
       "        0., 1., 0., 1., 0., 1., 0., 1., 0., 1., 0., 1., 0., 1., 0., 1., 0., 1.,\n",
       "        0., 1., 0., 1., 0., 1., 0., 1., 0., 1., 0., 1., 0., 1., 0., 1., 0., 1.,\n",
       "        0., 1., 0., 1., 0., 1., 0., 1., 0., 1., 0., 1., 0., 1., 0., 1., 0., 1.,\n",
       "        0., 1., 0., 1., 0., 1., 0., 1., 0., 1., 0., 1., 0., 1., 0., 1., 0., 1.,\n",
       "        0., 1., 0., 1., 0., 1., 0., 1., 0., 1., 0., 1., 0., 1., 0., 1., 0., 1.,\n",
       "        0., 1., 0., 1., 0., 1., 0., 1., 0., 1., 0., 1., 0., 1., 0., 1., 0., 1.,\n",
       "        0., 1., 0., 1., 0., 1., 0., 1., 0., 1., 0., 1., 0., 1., 0., 1., 0., 1.,\n",
       "        0., 1., 0., 1., 0., 1., 0., 1., 0., 1., 0., 1., 0., 1., 0., 1., 0., 1.,\n",
       "        0., 1., 0., 1., 0., 1., 0., 1., 0., 1., 0., 1., 0., 1., 0., 1., 0., 1.,\n",
       "        0., 1., 0., 1., 0., 1., 0., 1., 0., 1., 0., 1., 0., 1., 0., 1., 0., 1.,\n",
       "        0., 1., 0., 1., 0., 1., 0., 1., 0., 1., 0., 1., 0., 1., 0., 1., 0., 1.,\n",
       "        0., 1., 0., 1., 0., 1., 0., 1., 0., 1., 0., 1., 0., 1., 0., 1., 0., 1.,\n",
       "        0., 1., 0., 1., 0., 1., 0., 1., 0., 1., 0., 1., 0., 1., 0., 1., 0., 1.,\n",
       "        0., 1., 0., 1., 0., 1., 0., 1., 0., 1., 0., 1., 0., 1., 0., 1., 0., 1.,\n",
       "        0., 1., 0., 1., 0., 1., 0., 1., 0., 1., 0., 1., 0., 1., 0., 1., 0., 1.,\n",
       "        0., 1., 0., 1., 0., 1., 0., 1.], grad_fn=<SelectBackward>)"
      ]
     },
     "execution_count": 50,
     "metadata": {},
     "output_type": "execute_result"
    }
   ],
   "source": [
    "encodings[0, 0]"
   ]
  },
  {
   "cell_type": "code",
   "execution_count": null,
   "metadata": {},
   "outputs": [],
   "source": []
  }
 ],
 "metadata": {
  "kernelspec": {
   "display_name": "Python 3",
   "language": "python",
   "name": "python3"
  },
  "language_info": {
   "codemirror_mode": {
    "name": "ipython",
    "version": 3
   },
   "file_extension": ".py",
   "mimetype": "text/x-python",
   "name": "python",
   "nbconvert_exporter": "python",
   "pygments_lexer": "ipython3",
   "version": "3.9.1"
  }
 },
 "nbformat": 4,
 "nbformat_minor": 4
}
