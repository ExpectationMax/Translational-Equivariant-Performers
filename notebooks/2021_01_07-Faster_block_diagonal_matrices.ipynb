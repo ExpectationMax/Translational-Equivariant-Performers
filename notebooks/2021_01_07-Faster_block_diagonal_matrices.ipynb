{
 "cells": [
  {
   "cell_type": "code",
   "execution_count": 2,
   "metadata": {},
   "outputs": [],
   "source": [
    "import numpy as np\n",
    "import torch\n",
    "import torch.nn as nn\n",
    "import pytorch_lightning as pl\n",
    "import pl_bolts\n",
    "from relative_performer.train import RelativePerformerModel\n",
    "import matplotlib.pyplot as plt"
   ]
  },
  {
   "cell_type": "code",
   "execution_count": 3,
   "metadata": {},
   "outputs": [
    {
     "data": {
      "text/plain": [
       "'/Users/hornm/Projects/RelativePerformer/notebooks'"
      ]
     },
     "execution_count": 3,
     "metadata": {},
     "output_type": "execute_result"
    }
   ],
   "source": [
    "import os\n",
    "os.getcwd()"
   ]
  },
  {
   "cell_type": "code",
   "execution_count": 4,
   "metadata": {},
   "outputs": [],
   "source": [
    "dataset = pl_bolts.datamodules.MNISTDataModule('../data/MNIST')"
   ]
  },
  {
   "cell_type": "code",
   "execution_count": 5,
   "metadata": {},
   "outputs": [],
   "source": [
    "train_loader = dataset.train_dataloader()\n",
    "batch = next(train_loader.__iter__())"
   ]
  },
  {
   "cell_type": "code",
   "execution_count": 6,
   "metadata": {},
   "outputs": [],
   "source": [
    "x, y = batch\n",
    "x = x.permute(0, 2, 3, 1)\n",
    "x = x[[0]]"
   ]
  },
  {
   "cell_type": "code",
   "execution_count": 7,
   "metadata": {},
   "outputs": [
    {
     "data": {
      "text/plain": [
       "torch.Size([1, 28, 28, 1])"
      ]
     },
     "execution_count": 7,
     "metadata": {},
     "output_type": "execute_result"
    }
   ],
   "source": [
    "x.shape"
   ]
  },
  {
   "cell_type": "code",
   "execution_count": 8,
   "metadata": {},
   "outputs": [],
   "source": [
    "model = RelativePerformerModel(dim=128, heads=1, depth=1, in_features=1, max_pos=28, pos_dims=2, pos_scales=8, num_classes=10, embedding_type='linear', no_projection=True)"
   ]
  },
  {
   "cell_type": "code",
   "execution_count": 9,
   "metadata": {},
   "outputs": [],
   "source": [
    "x_flat, positions = model._flatten_to_sequence(x)"
   ]
  },
  {
   "cell_type": "code",
   "execution_count": 10,
   "metadata": {},
   "outputs": [
    {
     "data": {
      "text/plain": [
       "<matplotlib.image.AxesImage at 0x133b3f550>"
      ]
     },
     "execution_count": 10,
     "metadata": {},
     "output_type": "execute_result"
    },
    {
     "data": {
      "image/png": "[encoded data removed]",
      "text/plain": [
       "<Figure size 288x504 with 1 Axes>"
      ]
     },
     "metadata": {
      "needs_background": "light"
     },
     "output_type": "display_data"
    }
   ],
   "source": [
    "plt.matshow(model._compute_positional_embeddings(positions[:, :28, [1]]).detach().numpy()[0], aspect='auto')"
   ]
  },
  {
   "cell_type": "code",
   "execution_count": 11,
   "metadata": {},
   "outputs": [],
   "source": [
    "out1 = model(x).detach().numpy()"
   ]
  },
  {
   "cell_type": "code",
   "execution_count": 12,
   "metadata": {},
   "outputs": [],
   "source": [
    "out2 = model(x_flat, positions).detach().numpy()"
   ]
  },
  {
   "cell_type": "code",
   "execution_count": 13,
   "metadata": {},
   "outputs": [],
   "source": [
    "out3 = model(x_flat, positions + torch.ones(*positions.shape)).detach().numpy()"
   ]
  },
  {
   "cell_type": "code",
   "execution_count": 14,
   "metadata": {},
   "outputs": [
    {
     "data": {
      "text/plain": [
       "True"
      ]
     },
     "execution_count": 14,
     "metadata": {},
     "output_type": "execute_result"
    }
   ],
   "source": [
    "np.allclose(out1, out2)"
   ]
  },
  {
   "cell_type": "code",
   "execution_count": 15,
   "metadata": {},
   "outputs": [
    {
     "data": {
      "text/plain": [
       "True"
      ]
     },
     "execution_count": 15,
     "metadata": {},
     "output_type": "execute_result"
    }
   ],
   "source": [
    "np.allclose(out1, out3)"
   ]
  },
  {
   "cell_type": "code",
   "execution_count": 16,
   "metadata": {},
   "outputs": [
    {
     "data": {
      "text/plain": [
       "(array([ 0.33338654,  0.13569857,  0.03346051, -1.5924395 ,  0.43533888,\n",
       "        -0.11234757,  1.612531  ,  0.4692148 ,  1.1411014 ,  0.39731753],\n",
       "       dtype=float32),\n",
       " array([ 0.33338654,  0.13569857,  0.03346051, -1.5924395 ,  0.43533888,\n",
       "        -0.11234757,  1.612531  ,  0.4692148 ,  1.1411014 ,  0.39731753],\n",
       "       dtype=float32))"
      ]
     },
     "execution_count": 16,
     "metadata": {},
     "output_type": "execute_result"
    }
   ],
   "source": [
    "out1[0], out3[0]"
   ]
  },
  {
   "cell_type": "code",
   "execution_count": 17,
   "metadata": {},
   "outputs": [
    {
     "data": {
      "text/plain": [
       "tensor([[[ 1.,  1.],\n",
       "         [ 1.,  2.],\n",
       "         [ 1.,  3.],\n",
       "         ...,\n",
       "         [28., 26.],\n",
       "         [28., 27.],\n",
       "         [28., 28.]]])"
      ]
     },
     "execution_count": 17,
     "metadata": {},
     "output_type": "execute_result"
    }
   ],
   "source": [
    "positions + torch.ones(*positions.shape)"
   ]
  },
  {
   "cell_type": "code",
   "execution_count": 18,
   "metadata": {},
   "outputs": [
    {
     "name": "stdout",
     "output_type": "stream",
     "text": [
      "torch.Size([1, 16, 2, 2])\n"
     ]
    }
   ],
   "source": [
    "projection_matrix = model.performer.net.layers[0][0].fn.to_q._build_positional_projection_matrix()\n",
    "print(projection_matrix.shape)\n",
    "# projection_matrix = projection_matrix[:, :32, :32]"
   ]
  },
  {
   "cell_type": "code",
   "execution_count": 20,
   "metadata": {},
   "outputs": [],
   "source": [
    "from relative_performer.constrained_relative_encoding import ConstrainedLinear, IdentityLinear\n",
    "\n",
    "to_q, to_k = ConstrainedLinear(1, 2, 16, 2), IdentityLinear(1, 2, 16, 2)"
   ]
  },
  {
   "cell_type": "code",
   "execution_count": 21,
   "metadata": {},
   "outputs": [
    {
     "data": {
      "text/plain": [
       "tensor([[[ 4.5291e-02, -8.3019e-02],\n",
       "         [ 8.3019e-02,  4.5291e-02]],\n",
       "\n",
       "        [[-9.0598e-02, -1.7430e+00],\n",
       "         [ 1.7430e+00, -9.0598e-02]],\n",
       "\n",
       "        [[-7.2271e-01,  1.8055e-03],\n",
       "         [-1.8055e-03, -7.2271e-01]],\n",
       "\n",
       "        [[ 1.6680e+00,  8.4671e-02],\n",
       "         [-8.4671e-02,  1.6680e+00]],\n",
       "\n",
       "        [[ 1.0782e+00, -7.3601e-01],\n",
       "         [ 7.3601e-01,  1.0782e+00]],\n",
       "\n",
       "        [[-4.5527e-02, -1.5961e+00],\n",
       "         [ 1.5961e+00, -4.5527e-02]],\n",
       "\n",
       "        [[ 2.3779e-01,  7.8486e-01],\n",
       "         [-7.8486e-01,  2.3779e-01]],\n",
       "\n",
       "        [[-5.6235e-01, -3.5971e-01],\n",
       "         [ 3.5971e-01, -5.6235e-01]],\n",
       "\n",
       "        [[ 9.6512e-01, -4.9414e-01],\n",
       "         [ 4.9414e-01,  9.6512e-01]],\n",
       "\n",
       "        [[ 8.0161e-02, -1.4170e+00],\n",
       "         [ 1.4170e+00,  8.0161e-02]],\n",
       "\n",
       "        [[ 1.3571e+00, -2.3173e+00],\n",
       "         [ 2.3173e+00,  1.3571e+00]],\n",
       "\n",
       "        [[ 4.4214e-01, -2.3168e-01],\n",
       "         [ 2.3168e-01,  4.4214e-01]],\n",
       "\n",
       "        [[-2.0335e+00, -6.4503e-01],\n",
       "         [ 6.4503e-01, -2.0335e+00]],\n",
       "\n",
       "        [[-2.2464e-01, -4.1601e-01],\n",
       "         [ 4.1601e-01, -2.2464e-01]],\n",
       "\n",
       "        [[-1.3934e+00,  3.0701e-01],\n",
       "         [-3.0701e-01, -1.3934e+00]],\n",
       "\n",
       "        [[ 9.9270e-01, -7.0906e-01],\n",
       "         [ 7.0906e-01,  9.9270e-01]]], grad_fn=<SelectBackward>)"
      ]
     },
     "execution_count": 21,
     "metadata": {},
     "output_type": "execute_result"
    }
   ],
   "source": [
    "to_q._build_positional_projection_matrix()[0]"
   ]
  },
  {
   "cell_type": "code",
   "execution_count": 22,
   "metadata": {
    "scrolled": false
   },
   "outputs": [
    {
     "name": "stdout",
     "output_type": "stream",
     "text": [
      "tensor([[[[0.3662, 0.0000, 1.0000, 0.0000, 1.0000, 0.0000, 1.0000, 0.0000,\n",
      "           1.0000, 0.0000, 1.0000, 0.0000, 1.0000, 0.0000, 1.0000, 0.0000,\n",
      "           1.0000, 0.0000, 1.0000, 0.0000, 1.0000, 0.0000, 1.0000, 0.0000,\n",
      "           1.0000, 0.0000, 1.0000, 0.0000, 1.0000, 0.0000, 1.0000, 0.0000,\n",
      "           1.0000],\n",
      "          [0.3662, 0.8415, 0.5403, 0.5684, 0.8227, 0.3575, 0.9339, 0.2192,\n",
      "           0.9757, 0.1332, 0.9911, 0.0807, 0.9967, 0.0488, 0.9988, 0.0295,\n",
      "           0.9996, 0.8415, 0.5403, 0.5684, 0.8227, 0.3575, 0.9339, 0.2192,\n",
      "           0.9757, 0.1332, 0.9911, 0.0807, 0.9967, 0.0488, 0.9988, 0.0295,\n",
      "           0.9996],\n",
      "          [0.3662, 0.0000, 1.0000, 0.0000, 1.0000, 0.0000, 1.0000, 0.0000,\n",
      "           1.0000, 0.0000, 1.0000, 0.0000, 1.0000, 0.0000, 1.0000, 0.0000,\n",
      "           1.0000, 0.0000, 1.0000, 0.0000, 1.0000, 0.0000, 1.0000, 0.0000,\n",
      "           1.0000, 0.0000, 1.0000, 0.0000, 1.0000, 0.0000, 1.0000, 0.0000,\n",
      "           1.0000]],\n",
      "\n",
      "         [[0.8741, 0.0000, 1.0000, 0.0000, 1.0000, 0.0000, 1.0000, 0.0000,\n",
      "           1.0000, 0.0000, 1.0000, 0.0000, 1.0000, 0.0000, 1.0000, 0.0000,\n",
      "           1.0000, 0.0000, 1.0000, 0.0000, 1.0000, 0.0000, 1.0000, 0.0000,\n",
      "           1.0000, 0.0000, 1.0000, 0.0000, 1.0000, 0.0000, 1.0000, 0.0000,\n",
      "           1.0000],\n",
      "          [0.8741, 0.8415, 0.5403, 0.5684, 0.8227, 0.3575, 0.9339, 0.2192,\n",
      "           0.9757, 0.1332, 0.9911, 0.0807, 0.9967, 0.0488, 0.9988, 0.0295,\n",
      "           0.9996, 0.8415, 0.5403, 0.5684, 0.8227, 0.3575, 0.9339, 0.2192,\n",
      "           0.9757, 0.1332, 0.9911, 0.0807, 0.9967, 0.0488, 0.9988, 0.0295,\n",
      "           0.9996],\n",
      "          [0.8741, 0.0000, 1.0000, 0.0000, 1.0000, 0.0000, 1.0000, 0.0000,\n",
      "           1.0000, 0.0000, 1.0000, 0.0000, 1.0000, 0.0000, 1.0000, 0.0000,\n",
      "           1.0000, 0.0000, 1.0000, 0.0000, 1.0000, 0.0000, 1.0000, 0.0000,\n",
      "           1.0000, 0.0000, 1.0000, 0.0000, 1.0000, 0.0000, 1.0000, 0.0000,\n",
      "           1.0000]]]], grad_fn=<CatBackward>)\n",
      "torch.Size([1, 1, 16, 3, 2])\n",
      "torch.Size([1, 2, 16, 3, 2])\n",
      "tensor([[[[ 8.3019e-02,  4.5291e-02,  1.7430e+00, -9.0598e-02, -1.8055e-03,\n",
      "           -7.2271e-01, -8.4671e-02,  1.6680e+00,  7.3601e-01,  1.0782e+00,\n",
      "            1.5961e+00, -4.5527e-02, -7.8486e-01,  2.3779e-01,  3.5971e-01,\n",
      "           -5.6235e-01,  4.9414e-01,  9.6512e-01,  1.4170e+00,  8.0161e-02,\n",
      "            2.3173e+00,  1.3571e+00,  2.3168e-01,  4.4214e-01,  6.4503e-01,\n",
      "           -2.0335e+00,  4.1601e-01, -2.2464e-01, -3.0701e-01, -1.3934e+00,\n",
      "            7.0906e-01,  9.9270e-01],\n",
      "          [ 8.2967e-02, -4.5387e-02,  1.3825e+00, -1.0653e+00, -2.6003e-01,\n",
      "           -6.7431e-01,  2.8305e-01,  1.6460e+00,  8.7310e-01,  9.7055e-01,\n",
      "            1.5872e+00, -1.7419e-01, -7.7231e-01,  2.7583e-01,  3.4295e-01,\n",
      "           -5.7273e-01,  1.0791e+00,  1.0566e-01,  1.2114e+00, -7.3954e-01,\n",
      "            2.6493e+00,  4.3910e-01,  3.2297e-01,  3.8059e-01,  3.6835e-01,\n",
      "           -2.1013e+00,  3.9652e-01, -2.5748e-01, -3.7468e-01, -1.3767e+00,\n",
      "            7.3807e-01,  9.7133e-01],\n",
      "          [ 8.3019e-02,  4.5291e-02,  1.7430e+00, -9.0598e-02, -1.8055e-03,\n",
      "           -7.2271e-01, -8.4671e-02,  1.6680e+00,  7.3601e-01,  1.0782e+00,\n",
      "            1.5961e+00, -4.5527e-02, -7.8486e-01,  2.3779e-01,  3.5971e-01,\n",
      "           -5.6235e-01,  4.9414e-01,  9.6512e-01,  1.4170e+00,  8.0161e-02,\n",
      "            2.3173e+00,  1.3571e+00,  2.3168e-01,  4.4214e-01,  6.4503e-01,\n",
      "           -2.0335e+00,  4.1601e-01, -2.2464e-01, -3.0701e-01, -1.3934e+00,\n",
      "            7.0906e-01,  9.9270e-01]],\n",
      "\n",
      "         [[-4.4070e-01,  3.3049e-01, -2.4797e-01, -1.5102e+00, -2.9310e-01,\n",
      "            1.8402e+00,  2.0023e-01,  1.7613e+00, -6.1256e-01,  1.2208e+00,\n",
      "            2.2184e+00, -1.2408e+00, -1.8286e+00,  8.0790e-01,  1.6493e+00,\n",
      "            6.1200e-01,  1.8430e-02, -1.3528e+00, -8.0229e-01, -6.3908e-01,\n",
      "           -1.7940e-01,  5.5751e-02,  4.1071e-01,  5.8672e-01, -2.0353e+00,\n",
      "           -2.2808e-01, -8.4344e-01,  6.7847e-02,  1.8073e-01,  1.0562e+00,\n",
      "           -1.1650e-01, -1.4319e+00],\n",
      "          [ 3.9991e-02,  5.4940e-01, -1.0625e+00, -1.1015e+00,  3.8408e-01,\n",
      "            1.8234e+00,  5.8149e-01,  1.6746e+00, -4.4444e-01,  1.2916e+00,\n",
      "            2.1111e+00, -1.4158e+00, -1.7870e+00,  8.9623e-01,  1.6666e+00,\n",
      "            5.6303e-01, -1.1284e+00, -7.4641e-01, -1.0233e+00, -6.9730e-02,\n",
      "           -1.4762e-01,  1.1620e-01,  5.2934e-01,  4.8241e-01, -2.0475e+00,\n",
      "            4.5120e-02, -8.3521e-01,  1.3570e-01,  2.3209e-01,  1.0461e+00,\n",
      "           -1.5873e-01, -1.4278e+00],\n",
      "          [-4.4070e-01,  3.3049e-01, -2.4797e-01, -1.5102e+00, -2.9310e-01,\n",
      "            1.8402e+00,  2.0023e-01,  1.7613e+00, -6.1256e-01,  1.2208e+00,\n",
      "            2.2184e+00, -1.2408e+00, -1.8286e+00,  8.0790e-01,  1.6493e+00,\n",
      "            6.1200e-01,  1.8430e-02, -1.3528e+00, -8.0229e-01, -6.3908e-01,\n",
      "           -1.7940e-01,  5.5751e-02,  4.1071e-01,  5.8672e-01, -2.0353e+00,\n",
      "           -2.2808e-01, -8.4344e-01,  6.7847e-02,  1.8073e-01,  1.0562e+00,\n",
      "           -1.1650e-01, -1.4319e+00]]]], grad_fn=<UnsafeViewBackward>)\n",
      "torch.Size([1, 2, 3, 33]) torch.Size([1, 2, 3, 33])\n",
      "tensor([[[[ 1.7939,  4.7151,  1.7939],\n",
      "          [-2.2179,  1.7939, -2.2179],\n",
      "          [ 1.7939,  4.7151,  1.7939]],\n",
      "\n",
      "         [[ 1.9365,  1.3339,  1.9365],\n",
      "          [ 3.8625,  1.9365,  3.8625],\n",
      "          [ 1.9365,  1.3339,  1.9365]]]], grad_fn=<UnsafeViewBackward>)\n"
     ]
    }
   ],
   "source": [
    "def compute_dot_prod2(i1, i2, j1, j2):\n",
    "    positions = torch.Tensor([[i1, i2], [j1, j2], [i1, i2]])[None]\n",
    "    from einops import rearrange\n",
    "    encodings = model._compute_positional_embeddings(positions)\n",
    "    fake_data = torch.zeros(1, 3, 1)\n",
    "    q = to_q(fake_data, encodings)\n",
    "    k = to_k(fake_data, encodings)\n",
    "    print(k)\n",
    "    # print('q:', q[..., 1:])\n",
    "    encodings = rearrange(encodings, 'b n (s d) -> b 1 s n d', s=to_q.pos_scales, d=2)\n",
    "    # Format batch_size, heads, scales, instances, 2\n",
    "    print(encodings.shape)\n",
    "    encodings = encodings.matmul(to_q._build_positional_projection_matrix())\n",
    "    print(encodings.shape)\n",
    "    encodings = rearrange(encodings, 'b h s n d -> b h n (s d)')\n",
    "    print(encodings)\n",
    "    # print('encodings:', encodings)\n",
    "    # return encodings.matmul(k[..., 1:].transpose(-1, -2))\n",
    "    print(q.shape, k.shape)\n",
    "    return encodings.matmul(k[..., 1:].transpose(-1, -2))\n",
    "\n",
    "# print(compute_dot_prod(0, 0, 1, 1))\n",
    "print(compute_dot_prod2(0, 0, 1, 1))"
   ]
  }
 ],
 "metadata": {
  "kernelspec": {
   "display_name": "Python 3",
   "language": "python",
   "name": "python3"
  },
  "language_info": {
   "codemirror_mode": {
    "name": "ipython",
    "version": 3
   },
   "file_extension": ".py",
   "mimetype": "text/x-python",
   "name": "python",
   "nbconvert_exporter": "python",
   "pygments_lexer": "ipython3",
   "version": "3.9.1"
  }
 },
 "nbformat": 4,
 "nbformat_minor": 4
}
