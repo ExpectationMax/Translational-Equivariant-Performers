{
 "cells": [
  {
   "cell_type": "code",
   "execution_count": 35,
   "metadata": {},
   "outputs": [],
   "source": [
    "import numpy as np\n",
    "import matplotlib.pyplot as plt\n",
    "from relative_performer.test_shifted import get_shifting_dataset, DATA_PATH, get_suitable_digits, TransformedDataset, ShiftingTransform\n",
    "import torchvision.transforms as transforms\n",
    "from torchvision.datasets import MNIST\n",
    "import PIL"
   ]
  },
  {
   "cell_type": "code",
   "execution_count": 36,
   "metadata": {},
   "outputs": [
    {
     "name": "stdout",
     "output_type": "stream",
     "text": [
      "854 of 10000 images are in line with the criteria class_id=[1], min_shift=8\n"
     ]
    }
   ],
   "source": [
    "dataset = get_shifting_dataset('MNIST', [1], 8)"
   ]
  },
  {
   "cell_type": "code",
   "execution_count": 37,
   "metadata": {},
   "outputs": [],
   "source": [
    "shifted = TransformedDataset(dataset, ShiftingTransform(-8))"
   ]
  },
  {
   "cell_type": "code",
   "execution_count": 38,
   "metadata": {},
   "outputs": [],
   "source": [
    "for shift in range(-8, 9):\n",
    "    shifted = TransformedDataset(dataset, ShiftingTransform(shift))\n",
    "    img = PIL.Image.fromarray((shifted[5][0][0].numpy() * 256).astype(np.uint8), 'L')\n",
    "    img.save(f'shifted_digets/MNIST_1_{shift}.png')"
   ]
  },
  {
   "cell_type": "code",
   "execution_count": 39,
   "metadata": {},
   "outputs": [
    {
     "name": "stdout",
     "output_type": "stream",
     "text": [
      "791 of 10000 images are in line with the criteria class_id=[1], min_shift=8\n"
     ]
    }
   ],
   "source": [
    "dataset = get_shifting_dataset('FashionMNIST', [1], 8)"
   ]
  },
  {
   "cell_type": "code",
   "execution_count": 53,
   "metadata": {},
   "outputs": [],
   "source": [
    "shifted = TransformedDataset(dataset, ShiftingTransform(-8))\n",
    "for shift in range(-8, 9):\n",
    "    shifted = TransformedDataset(dataset, ShiftingTransform(shift))\n",
    "    img = PIL.Image.fromarray((shifted[0][0][0].numpy() * 256).astype(np.uint8), 'L')\n",
    "    img.save(f'shifted_digets/FashionMNIST_1_{shift}.png')"
   ]
  },
  {
   "cell_type": "code",
   "execution_count": 52,
   "metadata": {},
   "outputs": [
    {
     "data": {
      "image/png": "[encoded data removed]",
      "text/plain": [
       "<PIL.Image.Image image mode=L size=32x32 at 0x13FF093D0>"
      ]
     },
     "execution_count": 52,
     "metadata": {},
     "output_type": "execute_result"
    }
   ],
   "source": [
    "PIL.Image.fromarray((shifted[0][0][0].numpy() * 256).astype(np.uint8), 'L')"
   ]
  },
  {
   "cell_type": "code",
   "execution_count": null,
   "metadata": {},
   "outputs": [],
   "source": []
  }
 ],
 "metadata": {
  "kernelspec": {
   "display_name": "Python 3",
   "language": "python",
   "name": "python3"
  },
  "language_info": {
   "codemirror_mode": {
    "name": "ipython",
    "version": 3
   },
   "file_extension": ".py",
   "mimetype": "text/x-python",
   "name": "python",
   "nbconvert_exporter": "python",
   "pygments_lexer": "ipython3",
   "version": "3.9.1"
  }
 },
 "nbformat": 4,
 "nbformat_minor": 4
}
